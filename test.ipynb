{
 "cells": [
  {
   "cell_type": "code",
   "execution_count": 1,
   "metadata": {},
   "outputs": [],
   "source": []
  },
  {
   "cell_type": "code",
   "execution_count": 23,
   "metadata": {},
   "outputs": [],
   "source": [
    "import pandas as pd\n",
    "\n",
    "data = pd.read_csv('data/census.csv')\n",
    "data.columns = [col.strip() for col in data.columns]\n",
    "cat_cols = ['workclass', 'education', 'marital-status', 'occupation', 'relationship', 'race', 'sex', 'native-country', 'salary']\n",
    "\n",
    "for col in cat_cols:\n",
    "    data[col] = data[col].apply(str.strip)\n",
    "\n",
    "data.to_csv('data/cleaned_census.csv', index=False)"
   ]
  },
  {
   "cell_type": "markdown",
   "metadata": {},
   "source": [
    "* Download census.csv from the data folder in the starter repository.\n",
    "   * Information on the dataset can be found <a href=\"https://archive.ics.uci.edu/ml/datasets/census+income\" target=\"_blank\">here</a>.\n",
    "* Create a remote DVC remote pointing to your S3 bucket and commit the data.\n",
    "* This data is messy, try to open it in pandas and see what you get.\n",
    "* To clean it, use your favorite text editor to remove all spaces.\n",
    "* Commit this modified data to DVC under a new name (we often want to keep the raw data untouched but then can keep updating the cooked version)."
   ]
  },
  {
   "cell_type": "code",
   "execution_count": 22,
   "metadata": {},
   "outputs": [],
   "source": []
  },
  {
   "cell_type": "code",
   "execution_count": 21,
   "metadata": {},
   "outputs": [],
   "source": []
  }
 ],
 "metadata": {
  "interpreter": {
   "hash": "66db585171b6e1424d774b28175fc2f9b8de26c8384db8edb71b6d6fe37e2ace"
  },
  "kernelspec": {
   "display_name": "Python 3.8.12 ('mlops_hw3')",
   "language": "python",
   "name": "python3"
  },
  "language_info": {
   "codemirror_mode": {
    "name": "ipython",
    "version": 3
   },
   "file_extension": ".py",
   "mimetype": "text/x-python",
   "name": "python",
   "nbconvert_exporter": "python",
   "pygments_lexer": "ipython3",
   "version": "3.8.12"
  },
  "orig_nbformat": 4
 },
 "nbformat": 4,
 "nbformat_minor": 2
}
